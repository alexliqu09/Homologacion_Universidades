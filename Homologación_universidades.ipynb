{
  "nbformat": 4,
  "nbformat_minor": 0,
  "metadata": {
    "colab": {
      "private_outputs": true,
      "provenance": [],
      "authorship_tag": "ABX9TyOISo+kmgUlTx+7RKcxmnou",
      "include_colab_link": true
    },
    "kernelspec": {
      "name": "python3",
      "display_name": "Python 3"
    },
    "language_info": {
      "name": "python"
    }
  },
  "cells": [
    {
      "cell_type": "markdown",
      "metadata": {
        "id": "view-in-github",
        "colab_type": "text"
      },
      "source": [
        "<a href=\"https://colab.research.google.com/github/alexliqu09/Homologacion_Universidades/blob/main/Homologaci%C3%B3n_universidades.ipynb\" target=\"_parent\"><img src=\"https://colab.research.google.com/assets/colab-badge.svg\" alt=\"Open In Colab\"/></a>"
      ]
    },
    {
      "cell_type": "code",
      "source": [
        "!pip install pyspark --no-cache-dir"
      ],
      "metadata": {
        "id": "0Bc_evC5d1xw"
      },
      "execution_count": null,
      "outputs": []
    },
    {
      "cell_type": "code",
      "source": [
        "import re\n",
        "import os\n",
        "import requests\n",
        "\n",
        "import gdown\n",
        "import pyspark\n",
        "\n",
        "import pyspark.sql.functions as F\n",
        "from pyspark.sql import SparkSession\n",
        "from pyspark.sql.functions import from_json, col, trim, \\\n",
        "                                  regexp_replace, collect_set,  collect_list, \\\n",
        "                                  struct, udf\n",
        "from pyspark.sql.types import StructType, StructField, StringType\n",
        "from pyspark.sql.types import BooleanType"
      ],
      "metadata": {
        "id": "XtxvQxEvZ_Ol"
      },
      "execution_count": null,
      "outputs": []
    },
    {
      "cell_type": "code",
      "execution_count": null,
      "metadata": {
        "id": "nV3MV7lNN-aB"
      },
      "outputs": [],
      "source": [
        "#Descargar nuestro datos atravez de la función get_files que descargar tanto un archivo csv y json.\n",
        "def get_files(input_string, output_name):\n",
        "    is_url = re.match(r'^https?://', input_string) is not None\n",
        "    if is_url:\n",
        "        response = requests.get(input_string)\n",
        "        with open(output_name, 'wb') as f:\n",
        "            f.write(response.content)\n",
        "    else:    \n",
        "        url = f'https://drive.google.com/uc?id={input_string}'\n",
        "        gdown.download(url, output_name, quiet=False)\n",
        "    \n",
        "get_files('1c8lsiC5LtkthwzZ3wmI7FUm1h_bbhrWU', 'instituciones_educativas.csv')\n",
        "get_files(\n",
        "        'https://krowdy.s3.us-east-1.amazonaws.com/ats/job/6434447e8e6c4c0008808420/opentest/2023-04-11T04-36-09-824ZUniversidades.json', \n",
        "        'universidades.json'\n",
        "    )"
      ]
    },
    {
      "cell_type": "code",
      "source": [
        "#Se hace uso de rutas relativas \n",
        "csv_path = os.path.abspath(\"instituciones_educativas.csv\")\n",
        "json_path = os.path.abspath(\"universidades.json\")"
      ],
      "metadata": {
        "id": "EHwSnRNIVUen"
      },
      "execution_count": null,
      "outputs": []
    },
    {
      "cell_type": "code",
      "source": [
        "#se crea una sesión en spark\n",
        "spark = SparkSession.builder.appName(\"Lectura de archivos\").getOrCreate()"
      ],
      "metadata": {
        "id": "krblZPhqU6V_"
      },
      "execution_count": null,
      "outputs": []
    },
    {
      "cell_type": "code",
      "source": [
        "#leemos el archivo csv\n",
        "df_csv = spark.read.format(\"csv\") \\\n",
        "                   .option(\"header\", \"true\") \\\n",
        "                   .load(csv_path)\n",
        "\n",
        "df_csv = df_csv.withColumn(\"value\", F.trim(df_csv[\"value\"]))\n",
        "\n",
        "df_csv.show(3, truncate=False)"
      ],
      "metadata": {
        "id": "MsO_fxXtVMTX"
      },
      "execution_count": null,
      "outputs": []
    },
    {
      "cell_type": "code",
      "source": [
        "#leemos el archivo json\n",
        "schema = StructType([\n",
        "    StructField(\"código INEI\", StringType(), True),\n",
        "    StructField(\"Nombre \", StringType(), True),\n",
        "    StructField(\"Siglas \", StringType(), True)\n",
        "])\n",
        "\n",
        "df_json = spark.read.format(\"json\") \\\n",
        "                    .option(\"multiline\", \"true\") \\\n",
        "                    .schema(schema) \\\n",
        "                    .load(json_path)\n",
        "\n",
        "df_json = df_json.withColumnRenamed(\"Siglas \", \"Siglas\")\n",
        "df_json = df_json.withColumnRenamed(\"Nombre \", \"Nombre\")\n",
        "\n",
        "df_json = df_json.withColumn(\"Siglas\", F.trim(df_json[\"Siglas\"]))\n",
        "df_json = df_json.withColumn(\"Nombre\", F.trim(df_json[\"Nombre\"]))\n",
        "\n",
        "df_json.show(4, truncate=False)"
      ],
      "metadata": {
        "id": "dzFbeGdKYSql"
      },
      "execution_count": null,
      "outputs": []
    },
    {
      "cell_type": "code",
      "source": [
        "#Para la restricción me base en sig. criterio\n",
        "# los usuarios por lo general escriben el nombre, las siglas\n",
        "#las siglas con el nombre o una parte del nombre de la universdidad,\n",
        "#Para normalizar los strgin se volvieron a minscula y se realiźó las\n",
        "#comparaciones. Cabe mencionar para el criterio sobre palabras \n",
        "#como ceps,ciclo, instituto me base en la frequencia en la que\n",
        "#aparecen estas palabras el código. No se esta mostrando pero \n",
        "#quiero resaltar que se tomo esta idea.\n",
        "#sobre la última condición lo que se buscó ya que en su mayoria\n",
        "#se tiene la palabra universidad se excluyó tal que \n",
        "#se aprovecharan las demás palabras ver si una frase como\n",
        "#cesar vallejo se encuentre dentro la columna nombre del df_csv.\n",
        "\n",
        "def check_similarity(text, nombre, siglas):\n",
        "    text = str(text)\n",
        "    text = re.sub(r'[^\\w\\s]', '', text).lower()\n",
        "    nombre = nombre.lower()\n",
        "    siglas = siglas.lower()   \n",
        "    if any(x in text for x in [\"ceps\", \"ingenieros\", \"idiomas\", \n",
        "                               \"inictel\", \"centro\", \"instituto\",\n",
        "                               \"ciclo\"]):\n",
        "        return False\n",
        "\n",
        "    if text == nombre or text == siglas:\n",
        "        return True\n",
        "\n",
        "    elif siglas in text.strip().split():\n",
        "        return True\n",
        "    \n",
        "    elif 'universidad' in nombre:\n",
        "        nombre_limpio = re.sub(r'universidad\\s*', '', nombre).strip()\n",
        "        if re.search(rf'\\b{text}\\b', nombre_limpio):\n",
        "            return True\n",
        "\n",
        "    return False\n",
        "\n",
        "similarity_udf = udf(check_similarity, BooleanType())\n",
        "#con este criterio se realizó un join para unir las tablas.\n",
        "df_homologadas = df_csv.join(df_json, similarity_udf(df_csv.value, df_json.Nombre, df_json.Siglas))"
      ],
      "metadata": {
        "id": "36xZBOy4QYUy"
      },
      "execution_count": null,
      "outputs": []
    },
    {
      "cell_type": "code",
      "source": [
        "df_homologadas = df_homologadas.withColumn(\"value\", F.lower(trim(regexp_replace(\"value\", \"\\s+\", \" \")))) \\\n",
        "                               .withColumn(\"Nombre\", trim(regexp_replace(\"Nombre\", \"\\s+\", \" \")))"
      ],
      "metadata": {
        "id": "6UZZv22AbXQC"
      },
      "execution_count": null,
      "outputs": []
    },
    {
      "cell_type": "code",
      "source": [
        "df_homologadas.show(truncate=False)"
      ],
      "metadata": {
        "id": "0NL8sJ7FULbh"
      },
      "execution_count": null,
      "outputs": []
    },
    {
      "cell_type": "code",
      "source": [
        "#se guardó con el nombre solicitado. Cabe mencionar que se esta guardando\n",
        "#el csv las columnas pedidas como value, candidateId y se renombre la columna nombre.\n",
        "df_homologadas.select(col(\"candidateId\"), col(\"value\"), col(\"Nombre\").alias(\"universidad homologada\")) \\\n",
        "    .write \\\n",
        "    .mode(\"overwrite\") \\\n",
        "    .option(\"header\", True) \\\n",
        "    .csv(\"universidades_homologadas.csv\")"
      ],
      "metadata": {
        "id": "2DmcnLI2PIYC"
      },
      "execution_count": null,
      "outputs": []
    },
    {
      "cell_type": "code",
      "source": [
        "#se guardó el json con el nombre solicitado y se usó el collect_set sobre las columna de values\n",
        "#ya que se busca no repertir dichos sinonimos.\n",
        "\n",
        "df_sinonimos = df_homologadas.groupBy(\"Nombre\") \\\n",
        "    .agg(collect_set(\"value\").alias(\"sinonimos\"))\n",
        "\n",
        "df_sinonimos = df_sinonimos.select(col(\"Nombre\").alias(\"nombre_universidad\"), col(\"sinonimos\"))\n",
        "\n",
        "df_sinonimos.write.mode(\"overwrite\").json(\"sinonimo_universidades.json\")"
      ],
      "metadata": {
        "id": "p7mfnVNxaZjn"
      },
      "execution_count": null,
      "outputs": []
    }
  ]
}